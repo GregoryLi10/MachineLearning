{
 "cells": [
  {
   "cell_type": "code",
   "execution_count": 16,
   "metadata": {},
   "outputs": [
    {
     "name": "stderr",
     "output_type": "stream",
     "text": [
      "[nltk_data] Downloading package stopwords to\n",
      "[nltk_data]     /Users/gregoryli/nltk_data...\n",
      "[nltk_data]   Package stopwords is already up-to-date!\n"
     ]
    },
    {
     "data": {
      "text/html": [
       "<div>\n",
       "<style scoped>\n",
       "    .dataframe tbody tr th:only-of-type {\n",
       "        vertical-align: middle;\n",
       "    }\n",
       "\n",
       "    .dataframe tbody tr th {\n",
       "        vertical-align: top;\n",
       "    }\n",
       "\n",
       "    .dataframe thead th {\n",
       "        text-align: right;\n",
       "    }\n",
       "</style>\n",
       "<table border=\"1\" class=\"dataframe\">\n",
       "  <thead>\n",
       "    <tr style=\"text-align: right;\">\n",
       "      <th></th>\n",
       "      <th>ProductId</th>\n",
       "      <th>ProfileName</th>\n",
       "      <th>HelpfulnessNumerator</th>\n",
       "      <th>HelpfulnessDenominator</th>\n",
       "      <th>Score</th>\n",
       "      <th>Summary</th>\n",
       "      <th>Text</th>\n",
       "      <th>Polarity_Rating</th>\n",
       "    </tr>\n",
       "  </thead>\n",
       "  <tbody>\n",
       "    <tr>\n",
       "      <th>0</th>\n",
       "      <td>B001E4KFG0</td>\n",
       "      <td>delmartian</td>\n",
       "      <td>1</td>\n",
       "      <td>1</td>\n",
       "      <td>5</td>\n",
       "      <td>Good Quality Dog Food</td>\n",
       "      <td>I have bought several of the Vitality canned d...</td>\n",
       "      <td>Positive</td>\n",
       "    </tr>\n",
       "    <tr>\n",
       "      <th>1</th>\n",
       "      <td>B00813GRG4</td>\n",
       "      <td>dll pa</td>\n",
       "      <td>0</td>\n",
       "      <td>0</td>\n",
       "      <td>1</td>\n",
       "      <td>Not as Advertised</td>\n",
       "      <td>Product arrived labeled as Jumbo Salted Peanut...</td>\n",
       "      <td>Negative</td>\n",
       "    </tr>\n",
       "    <tr>\n",
       "      <th>2</th>\n",
       "      <td>B000LQOCH0</td>\n",
       "      <td>Natalia Corres \"Natalia Corres\"</td>\n",
       "      <td>1</td>\n",
       "      <td>1</td>\n",
       "      <td>4</td>\n",
       "      <td>\"Delight\" says it all</td>\n",
       "      <td>This is a confection that has been around a fe...</td>\n",
       "      <td>Positive</td>\n",
       "    </tr>\n",
       "    <tr>\n",
       "      <th>3</th>\n",
       "      <td>B000UA0QIQ</td>\n",
       "      <td>Karl</td>\n",
       "      <td>3</td>\n",
       "      <td>3</td>\n",
       "      <td>2</td>\n",
       "      <td>Cough Medicine</td>\n",
       "      <td>If you are looking for the secret ingredient i...</td>\n",
       "      <td>Negative</td>\n",
       "    </tr>\n",
       "    <tr>\n",
       "      <th>4</th>\n",
       "      <td>B006K2ZZ7K</td>\n",
       "      <td>Michael D. Bigham \"M. Wassir\"</td>\n",
       "      <td>0</td>\n",
       "      <td>0</td>\n",
       "      <td>5</td>\n",
       "      <td>Great taffy</td>\n",
       "      <td>Great taffy at a great price.  There was a wid...</td>\n",
       "      <td>Positive</td>\n",
       "    </tr>\n",
       "  </tbody>\n",
       "</table>\n",
       "</div>"
      ],
      "text/plain": [
       "    ProductId                      ProfileName  HelpfulnessNumerator  \\\n",
       "0  B001E4KFG0                       delmartian                     1   \n",
       "1  B00813GRG4                           dll pa                     0   \n",
       "2  B000LQOCH0  Natalia Corres \"Natalia Corres\"                     1   \n",
       "3  B000UA0QIQ                             Karl                     3   \n",
       "4  B006K2ZZ7K    Michael D. Bigham \"M. Wassir\"                     0   \n",
       "\n",
       "   HelpfulnessDenominator  Score                Summary  \\\n",
       "0                       1      5  Good Quality Dog Food   \n",
       "1                       0      1      Not as Advertised   \n",
       "2                       1      4  \"Delight\" says it all   \n",
       "3                       3      2         Cough Medicine   \n",
       "4                       0      5            Great taffy   \n",
       "\n",
       "                                                Text Polarity_Rating  \n",
       "0  I have bought several of the Vitality canned d...        Positive  \n",
       "1  Product arrived labeled as Jumbo Salted Peanut...        Negative  \n",
       "2  This is a confection that has been around a fe...        Positive  \n",
       "3  If you are looking for the secret ingredient i...        Negative  \n",
       "4  Great taffy at a great price.  There was a wid...        Positive  "
      ]
     },
     "execution_count": 16,
     "metadata": {},
     "output_type": "execute_result"
    }
   ],
   "source": [
    "import pandas as pd\n",
    "import numpy as np\n",
    "\n",
    "import string\n",
    "from string import punctuation\n",
    "import nltk\n",
    "from nltk.corpus import stopwords\n",
    "nltk.download('stopwords')\n",
    "\n",
    "import tensorflow as tf\n",
    "\n",
    "from tensorflow.keras.layers import Input, Dense, Dropout\n",
    "from tensorflow.keras.models import Sequential \n",
    "\n",
    "import sklearn\n",
    "from sklearn.model_selection import train_test_split\n",
    "from sklearn.feature_extraction.text import CountVectorizer, TfidfTransformer, TfidfVectorizer\n",
    "\n",
    "import joblib\n",
    "\n",
    "data=pd.read_csv('Reviews.csv')\n",
    "\n",
    "data=data.drop(['UserId','Id','Time'],axis=1)\n",
    "data.dropna(inplace=True)\n",
    "\n",
    "data['Polarity_Rating']=data['Score'].apply(lambda x: 'Positive' if x>3 else ('Neutral' if x==3 else 'Negative'))\n",
    "\n",
    "data.head()"
   ]
  },
  {
   "cell_type": "code",
   "execution_count": 18,
   "metadata": {},
   "outputs": [
    {
     "name": "stdout",
     "output_type": "stream",
     "text": [
      "Negative:  (8000, 8)\n",
      "Neutral:  (8000, 8)\n",
      "Positive:  (8000, 8)\n",
      "Negative:  (8000, 8)\n",
      "Neutral:  (8000, 8)\n",
      "Positive:  (8000, 8)\n",
      "(24000, 8)\n"
     ]
    }
   ],
   "source": [
    "data_positive=data[data['Polarity_Rating']=='Positive']\n",
    "data_negative=data[data['Polarity_Rating']=='Negative']\n",
    "data_neutral=data[data['Polarity_Rating']=='Neutral']\n",
    "print(\"Negative: \", data_negative.shape)\n",
    "print(\"Neutral: \", data_neutral.shape)\n",
    "print(\"Positive: \", data_positive.shape)\n",
    "\n",
    "data_positive = data_positive.sample(8000)\n",
    "data_negative = data_negative.sample(8000)\n",
    "data_neutral = data_neutral.sample(8000)\n",
    "print(\"Negative: \", data_negative.shape)\n",
    "print(\"Neutral: \", data_neutral.shape)\n",
    "print(\"Positive: \", data_positive.shape)\n",
    "\n",
    "\n",
    "data=pd.concat([data_positive,data_negative,data_neutral])\n",
    "print(data.shape)\n"
   ]
  },
  {
   "cell_type": "code",
   "execution_count": 19,
   "metadata": {},
   "outputs": [
    {
     "data": {
      "text/html": [
       "<div>\n",
       "<style scoped>\n",
       "    .dataframe tbody tr th:only-of-type {\n",
       "        vertical-align: middle;\n",
       "    }\n",
       "\n",
       "    .dataframe tbody tr th {\n",
       "        vertical-align: top;\n",
       "    }\n",
       "\n",
       "    .dataframe thead th {\n",
       "        text-align: right;\n",
       "    }\n",
       "</style>\n",
       "<table border=\"1\" class=\"dataframe\">\n",
       "  <thead>\n",
       "    <tr style=\"text-align: right;\">\n",
       "      <th></th>\n",
       "      <th>reviews</th>\n",
       "      <th>Polarity_Rating</th>\n",
       "    </tr>\n",
       "  </thead>\n",
       "  <tbody>\n",
       "    <tr>\n",
       "      <th>92704</th>\n",
       "      <td>I love these chips They are bursting with flav...</td>\n",
       "      <td>Positive</td>\n",
       "    </tr>\n",
       "    <tr>\n",
       "      <th>142311</th>\n",
       "      <td>I got these to eat healthier They taste great ...</td>\n",
       "      <td>Positive</td>\n",
       "    </tr>\n",
       "    <tr>\n",
       "      <th>190272</th>\n",
       "      <td>I first started drinking this when I lived in ...</td>\n",
       "      <td>Positive</td>\n",
       "    </tr>\n",
       "    <tr>\n",
       "      <th>25378</th>\n",
       "      <td>You cannot go wrong with these instant potatoe...</td>\n",
       "      <td>Positive</td>\n",
       "    </tr>\n",
       "    <tr>\n",
       "      <th>158435</th>\n",
       "      <td>By way if the Worthinton web site I found vega...</td>\n",
       "      <td>Positive</td>\n",
       "    </tr>\n",
       "  </tbody>\n",
       "</table>\n",
       "</div>"
      ],
      "text/plain": [
       "                                                  reviews Polarity_Rating\n",
       "92704   I love these chips They are bursting with flav...        Positive\n",
       "142311  I got these to eat healthier They taste great ...        Positive\n",
       "190272  I first started drinking this when I lived in ...        Positive\n",
       "25378   You cannot go wrong with these instant potatoe...        Positive\n",
       "158435  By way if the Worthinton web site I found vega...        Positive"
      ]
     },
     "execution_count": 19,
     "metadata": {},
     "output_type": "execute_result"
    }
   ],
   "source": [
    "def text_cleanup(text):\n",
    "  stopwrds = stopwords.words('english')\n",
    "  no_punc = [char for char in text if char not in string.punctuation]\n",
    "  no_punc = ''.join(no_punc)\n",
    "  return ' '.join([word for word in no_punc.split() if word.lower not in stopwrds])\n",
    "\n",
    "data['reviews'] = data['Text'].apply(text_cleanup)\n",
    "\n",
    "data = data[[\"reviews\", \"Polarity_Rating\"]]\n",
    "\n",
    "data.head()"
   ]
  },
  {
   "cell_type": "code",
   "execution_count": 20,
   "metadata": {},
   "outputs": [
    {
     "data": {
      "text/html": [
       "<div>\n",
       "<style scoped>\n",
       "    .dataframe tbody tr th:only-of-type {\n",
       "        vertical-align: middle;\n",
       "    }\n",
       "\n",
       "    .dataframe tbody tr th {\n",
       "        vertical-align: top;\n",
       "    }\n",
       "\n",
       "    .dataframe thead th {\n",
       "        text-align: right;\n",
       "    }\n",
       "</style>\n",
       "<table border=\"1\" class=\"dataframe\">\n",
       "  <thead>\n",
       "    <tr style=\"text-align: right;\">\n",
       "      <th></th>\n",
       "      <th>reviews</th>\n",
       "      <th>Negative</th>\n",
       "      <th>Neutral</th>\n",
       "      <th>Positive</th>\n",
       "    </tr>\n",
       "  </thead>\n",
       "  <tbody>\n",
       "    <tr>\n",
       "      <th>92704</th>\n",
       "      <td>I love these chips They are bursting with flav...</td>\n",
       "      <td>0</td>\n",
       "      <td>0</td>\n",
       "      <td>1</td>\n",
       "    </tr>\n",
       "    <tr>\n",
       "      <th>142311</th>\n",
       "      <td>I got these to eat healthier They taste great ...</td>\n",
       "      <td>0</td>\n",
       "      <td>0</td>\n",
       "      <td>1</td>\n",
       "    </tr>\n",
       "    <tr>\n",
       "      <th>190272</th>\n",
       "      <td>I first started drinking this when I lived in ...</td>\n",
       "      <td>0</td>\n",
       "      <td>0</td>\n",
       "      <td>1</td>\n",
       "    </tr>\n",
       "    <tr>\n",
       "      <th>25378</th>\n",
       "      <td>You cannot go wrong with these instant potatoe...</td>\n",
       "      <td>0</td>\n",
       "      <td>0</td>\n",
       "      <td>1</td>\n",
       "    </tr>\n",
       "    <tr>\n",
       "      <th>158435</th>\n",
       "      <td>By way if the Worthinton web site I found vega...</td>\n",
       "      <td>0</td>\n",
       "      <td>0</td>\n",
       "      <td>1</td>\n",
       "    </tr>\n",
       "  </tbody>\n",
       "</table>\n",
       "</div>"
      ],
      "text/plain": [
       "                                                  reviews  Negative  Neutral  \\\n",
       "92704   I love these chips They are bursting with flav...         0        0   \n",
       "142311  I got these to eat healthier They taste great ...         0        0   \n",
       "190272  I first started drinking this when I lived in ...         0        0   \n",
       "25378   You cannot go wrong with these instant potatoe...         0        0   \n",
       "158435  By way if the Worthinton web site I found vega...         0        0   \n",
       "\n",
       "        Positive  \n",
       "92704          1  \n",
       "142311         1  \n",
       "190272         1  \n",
       "25378          1  \n",
       "158435         1  "
      ]
     },
     "execution_count": 20,
     "metadata": {},
     "output_type": "execute_result"
    }
   ],
   "source": [
    "one_hot = pd.get_dummies(data[\"Polarity_Rating\"])\n",
    "data = pd.concat([data, one_hot], axis=1)\n",
    "data.drop(['Polarity_Rating'], axis=1, inplace=True)\n",
    "data.head()"
   ]
  },
  {
   "cell_type": "code",
   "execution_count": 21,
   "metadata": {},
   "outputs": [],
   "source": [
    "x_rev = data[\"reviews\"].values\n",
    "y_pol = data.drop(\"reviews\", axis=1)\n",
    "x_rev_train, x_rev_test, y_pol_train, y_pol_test = train_test_split(x_rev, y_pol, test_size=0.30, shuffle=True)"
   ]
  },
  {
   "cell_type": "code",
   "execution_count": 23,
   "metadata": {},
   "outputs": [
    {
     "name": "stdout",
     "output_type": "stream",
     "text": [
      "(7200, 15000)\n",
      "(16800, 15000)\n"
     ]
    }
   ],
   "source": [
    "vect=CountVectorizer()\n",
    "vect.max_features=15000\n",
    "vect.fit(x_rev)\n",
    "\n",
    "vocab=vect.vocabulary_\n",
    "# print(vocab)\n",
    "\n",
    "joblib.dump(vocab, \"vocab.pkl\")\n",
    "\n",
    "x_rev_train_v = vect.transform(x_rev_train)\n",
    "x_rev_test_v = vect.transform(x_rev_test)\n",
    "\n",
    "x_rev_train_v = x_rev_train_v.toarray()\n",
    "x_rev_test_v = x_rev_test_v.toarray()\n",
    "\n",
    "print(x_rev_test_v.shape)\n",
    "print(x_rev_train_v.shape)"
   ]
  },
  {
   "cell_type": "code",
   "execution_count": 24,
   "metadata": {},
   "outputs": [
    {
     "name": "stderr",
     "output_type": "stream",
     "text": [
      "2022-07-15 10:42:33.931204: I tensorflow/core/platform/cpu_feature_guard.cc:193] This TensorFlow binary is optimized with oneAPI Deep Neural Network Library (oneDNN) to use the following CPU instructions in performance-critical operations:  AVX2 AVX512F AVX512_VNNI FMA\n",
      "To enable them in other operations, rebuild TensorFlow with the appropriate compiler flags.\n"
     ]
    },
    {
     "name": "stdout",
     "output_type": "stream",
     "text": [
      "Epoch 1/10\n",
      "66/66 [==============================] - 45s 627ms/step - loss: 0.9987 - accuracy: 0.4998 - val_loss: 0.7304 - val_accuracy: 0.6860\n",
      "Epoch 2/10\n",
      "66/66 [==============================] - 36s 547ms/step - loss: 0.6421 - accuracy: 0.7423 - val_loss: 0.6791 - val_accuracy: 0.7121\n",
      "Epoch 3/10\n",
      "66/66 [==============================] - 35s 533ms/step - loss: 0.3487 - accuracy: 0.8705 - val_loss: 0.7439 - val_accuracy: 0.7053\n",
      "Epoch 4/10\n",
      "66/66 [==============================] - 35s 538ms/step - loss: 0.1491 - accuracy: 0.9530 - val_loss: 1.0197 - val_accuracy: 0.6972\n",
      "Epoch 5/10\n",
      "66/66 [==============================] - 36s 541ms/step - loss: 0.0762 - accuracy: 0.9763 - val_loss: 1.1652 - val_accuracy: 0.7022\n",
      "Epoch 6/10\n",
      "66/66 [==============================] - 35s 539ms/step - loss: 0.0525 - accuracy: 0.9837 - val_loss: 1.2749 - val_accuracy: 0.6946\n",
      "Epoch 7/10\n",
      "66/66 [==============================] - 35s 539ms/step - loss: 0.0430 - accuracy: 0.9885 - val_loss: 1.3341 - val_accuracy: 0.6925\n",
      "Epoch 8/10\n",
      "66/66 [==============================] - 36s 537ms/step - loss: 0.0353 - accuracy: 0.9887 - val_loss: 1.4950 - val_accuracy: 0.6950\n",
      "Epoch 9/10\n",
      "66/66 [==============================] - 36s 550ms/step - loss: 0.0395 - accuracy: 0.9899 - val_loss: 1.5664 - val_accuracy: 0.7018\n",
      "Epoch 10/10\n",
      "66/66 [==============================] - 36s 544ms/step - loss: 0.0259 - accuracy: 0.9919 - val_loss: 1.5959 - val_accuracy: 0.7004\n",
      "Test accuracy: 0.7004166841506958\n"
     ]
    }
   ],
   "source": [
    "model=Sequential()\n",
    "model.add(Dense(units=4000, activation=\"relu\"))\n",
    "model.add(Dropout(0.5))\n",
    "model.add(Dense(units=2000, activation=\"relu\"))\n",
    "model.add(Dropout(0.5))\n",
    "model.add(Dense(units=500, activation=\"relu\"))\n",
    "model.add(Dropout(0.5))\n",
    "model.add(Dense(units=250, activation=\"relu\"))\n",
    "model.add(Dropout(0.5))\n",
    "model.add(Dense(units=3, activation=\"softmax\"))\n",
    "\n",
    "opt = tf.keras.optimizers.Adam(learning_rate=0.001)\n",
    "model.compile(loss=\"categorical_crossentropy\", optimizer=opt, metrics=[\"accuracy\"])\n",
    "\n",
    "model.fit(x=x_rev_train_v, y=y_pol_train, batch_size=256, epochs=10, validation_data=(x_rev_test_v, y_pol_test))\n",
    "\n",
    "scores = model.evaluate(x_rev_test_v, y_pol_test, verbose=0)\n",
    "\n",
    "print('Test accuracy:', scores[1])\n",
    "\n",
    "model.save('sentiments.h5')"
   ]
  },
  {
   "cell_type": "code",
   "execution_count": 48,
   "metadata": {},
   "outputs": [
    {
     "name": "stdout",
     "output_type": "stream",
     "text": [
      "1/1 [==============================] - 0s 41ms/step\n",
      "[[9.9971503e-01 2.6411371e-04 2.0882824e-05]]\n"
     ]
    }
   ],
   "source": [
    "from sklearn.feature_extraction.text import CountVectorizer\n",
    "\n",
    "vect = CountVectorizer()\n",
    "vect.vocabulary=vocab\n",
    "def vectorize(text, vectorizer):\n",
    "    text = vect.fit_transform(text)\n",
    "    text = text.toarray()\n",
    "    return text\n",
    "\n",
    "# review = [\"I like these Heeleys so much I think they are not bad and they do a great job getting me places\"]\n",
    "review=[\"sad\"]\n",
    "x = vectorize(review, vect)\n",
    "pred_array = model.predict(x)\n",
    "print(pred_array)"
   ]
  },
  {
   "cell_type": "code",
   "execution_count": 49,
   "metadata": {},
   "outputs": [
    {
     "data": {
      "image/png": "[encoded data removed]",
      "text/plain": [
       "<Figure size 432x288 with 1 Axes>"
      ]
     },
     "metadata": {
      "needs_background": "light"
     },
     "output_type": "display_data"
    }
   ],
   "source": [
    "import matplotlib.pyplot as plt\n",
    "\n",
    "def graph_results(prediction_array, index):\n",
    "    labels = [\"negative\", \"neutral\", \"positive\"]\n",
    "    predicted = np.argmax(prediction_array[index])\n",
    "    title = \"Prediction: \" + labels[predicted]\n",
    "    graph = plt.subplot()\n",
    "    graph.bar(range(3), prediction_array[index])\n",
    "    graph.set_xticks(range(3))\n",
    "    graph.set_xticklabels(labels)\n",
    "    graph.set_title(title)\n",
    "    plt.show()\n",
    "\n",
    "graph_results(pred_array, 0)\n"
   ]
  },
  {
   "cell_type": "code",
   "execution_count": 52,
   "metadata": {},
   "outputs": [
    {
     "name": "stdout",
     "output_type": "stream",
     "text": [
      "['good meme', 'bad meme']\n",
      "1/1 [==============================] - 0s 119ms/step\n",
      "good meme\n"
     ]
    },
    {
     "data": {
      "image/png": "[encoded data removed]",
      "text/plain": [
       "<Figure size 432x288 with 1 Axes>"
      ]
     },
     "metadata": {
      "needs_background": "light"
     },
     "output_type": "display_data"
    },
    {
     "name": "stdout",
     "output_type": "stream",
     "text": [
      "bad meme\n"
     ]
    },
    {
     "data": {
      "image/png": "[encoded data removed]",
      "text/plain": [
       "<Figure size 432x288 with 1 Axes>"
      ]
     },
     "metadata": {
      "needs_background": "light"
     },
     "output_type": "display_data"
    }
   ],
   "source": [
    "import requests\n",
    "from bs4 import BeautifulSoup\n",
    "\n",
    "URL=\"https://gregoryli10.github.io\"\n",
    "page=requests.get(URL)\n",
    "soup=BeautifulSoup(page.content, 'html.parser')\n",
    "\n",
    "reviews=soup.find_all(id=\"content\")\n",
    "\n",
    "\n",
    "clean_reviews = []\n",
    "for review in reviews:\n",
    "    text = review.get_text().strip()\n",
    "    clean_reviews.append(text)\n",
    "print(clean_reviews)\n",
    "\n",
    "x = vectorize(clean_reviews, vect)\n",
    "pred_array=model.predict(x)\n",
    "for i in range(len(clean_reviews)):\n",
    "    print(clean_reviews[i])\n",
    "    graph_results(pred_array, i)\n",
    "\n"
   ]
  }
 ],
 "metadata": {
  "kernelspec": {
   "display_name": "Python 3.10.4 64-bit",
   "language": "python",
   "name": "python3"
  },
  "language_info": {
   "codemirror_mode": {
    "name": "ipython",
    "version": 3
   },
   "file_extension": ".py",
   "mimetype": "text/x-python",
   "name": "python",
   "nbconvert_exporter": "python",
   "pygments_lexer": "ipython3",
   "version": "3.10.4"
  },
  "orig_nbformat": 4,
  "vscode": {
   "interpreter": {
    "hash": "aee8b7b246df8f9039afb4144a1f6fd8d2ca17a180786b69acc140d282b71a49"
   }
  }
 },
 "nbformat": 4,
 "nbformat_minor": 2
}
