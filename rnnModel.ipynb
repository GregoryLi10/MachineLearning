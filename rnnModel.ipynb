{
 "cells": [
  {
   "cell_type": "code",
   "execution_count": 3,
   "metadata": {},
   "outputs": [
    {
     "name": "stdout",
     "output_type": "stream",
     "text": [
      "No-Bake Nut Cookies\n",
      "1 c. firmly packed brown sugar\n",
      " 1/2 c. evaporated milk\n",
      " 1/2 tsp. vanilla\n",
      " 1/2 c. broken nuts (pecans)\n",
      " 2 Tbsp. butter or margarine\n",
      " 3 1/2 c. bite size shredded rice biscuitsIn a heavy 2-quart saucepan, mix brown sugar, nuts, evapo\n"
     ]
    }
   ],
   "source": [
    "import tensorflow as tf\n",
    "import numpy as np\n",
    "import os\n",
    "import time\n",
    "\n",
    "path_to_file=('recipes.txt')\n",
    "text=open(path_to_file,'rb').read().decode(encoding='utf-8')\n",
    "print(text[:250])\n"
   ]
  },
  {
   "cell_type": "code",
   "execution_count": 4,
   "metadata": {},
   "outputs": [
    {
     "name": "stdout",
     "output_type": "stream",
     "text": [
      "Length of text: 2390691 characters\n",
      "86 unique characters\n"
     ]
    }
   ],
   "source": [
    "print(f'Length of text: {len(text)} characters')\n",
    "vocab = sorted(set(text))\n",
    "print(f'{len(vocab)} unique characters')"
   ]
  },
  {
   "cell_type": "code",
   "execution_count": 5,
   "metadata": {},
   "outputs": [
    {
     "name": "stdout",
     "output_type": "stream",
     "text": [
      "<tf.RaggedTensor [[b'a', b'b', b'c', b'd', b'e', b'f', b'g'], [b'x', b'y', b'z']]>\n"
     ]
    },
    {
     "name": "stderr",
     "output_type": "stream",
     "text": [
      "2022-07-15 22:54:51.185379: I tensorflow/core/platform/cpu_feature_guard.cc:193] This TensorFlow binary is optimized with oneAPI Deep Neural Network Library (oneDNN) to use the following CPU instructions in performance-critical operations:  AVX2 FMA\n",
      "To enable them in other operations, rebuild TensorFlow with the appropriate compiler flags.\n"
     ]
    }
   ],
   "source": [
    "example_texts = ['abcdefg', 'xyz']\n",
    "chars = tf.strings.unicode_split(example_texts, input_encoding='UTF-8')\n",
    "print(chars)"
   ]
  },
  {
   "cell_type": "code",
   "execution_count": 6,
   "metadata": {},
   "outputs": [
    {
     "name": "stdout",
     "output_type": "stream",
     "text": [
      "<tf.RaggedTensor [[60, 61, 62, 63, 64, 65, 66], [83, 84, 85]]>\n"
     ]
    }
   ],
   "source": [
    "ids_from_chars=tf.keras.layers.StringLookup(vocabulary=list(vocab),mask_token=None)\n",
    "ids=ids_from_chars(chars)\n",
    "print(ids)"
   ]
  },
  {
   "cell_type": "code",
   "execution_count": 7,
   "metadata": {},
   "outputs": [
    {
     "name": "stdout",
     "output_type": "stream",
     "text": [
      "<tf.RaggedTensor [[b'a', b'b', b'c', b'd', b'e', b'f', b'g'], [b'x', b'y', b'z']]>\n"
     ]
    }
   ],
   "source": [
    "chars_from_ids=tf.keras.layers.StringLookup(vocabulary=ids_from_chars.get_vocabulary(), invert=True, mask_token=None)\n",
    "chars=chars_from_ids(ids)\n",
    "print(chars)"
   ]
  },
  {
   "cell_type": "code",
   "execution_count": 8,
   "metadata": {},
   "outputs": [
    {
     "name": "stdout",
     "output_type": "stream",
     "text": [
      "tf.Tensor([b'abcdefg' b'xyz'], shape=(2,), dtype=string)\n"
     ]
    }
   ],
   "source": [
    "def text_from_ids(ids):\n",
    "    return tf.strings.reduce_join(chars_from_ids(ids), axis=-1)\n",
    "print(text_from_ids(ids))"
   ]
  },
  {
   "cell_type": "code",
   "execution_count": 9,
   "metadata": {},
   "outputs": [
    {
     "name": "stdout",
     "output_type": "stream",
     "text": [
      "tf.Tensor([45 74 15 ... 16  2  2], shape=(2390691,), dtype=int64)\n"
     ]
    }
   ],
   "source": [
    "all_ids = ids_from_chars(tf.strings.unicode_split(text, 'UTF-8')) \n",
    "print(all_ids) "
   ]
  },
  {
   "cell_type": "code",
   "execution_count": 10,
   "metadata": {},
   "outputs": [
    {
     "name": "stdout",
     "output_type": "stream",
     "text": [
      "N\n",
      "o\n",
      "-\n",
      "B\n",
      "a\n",
      "k\n",
      "e\n",
      " \n",
      "N\n",
      "u\n"
     ]
    }
   ],
   "source": [
    "ids_dataset = tf.data.Dataset.from_tensor_slices(all_ids)\n",
    "for ids in ids_dataset.take(10):\n",
    "    print(chars_from_ids(ids).numpy().decode('utf-8'))"
   ]
  },
  {
   "cell_type": "code",
   "execution_count": 11,
   "metadata": {},
   "outputs": [
    {
     "name": "stdout",
     "output_type": "stream",
     "text": [
      "tf.Tensor(\n",
      "[b'N' b'o' b'-' b'B' b'a' b'k' b'e' b' ' b'N' b'u' b't' b' ' b'C' b'o'\n",
      " b'o' b'k' b'i' b'e' b's' b'\\n' b'1' b' ' b'c' b'.' b' ' b'f' b'i' b'r'\n",
      " b'm' b'l' b'y' b' ' b'p' b'a' b'c' b'k' b'e' b'd' b' ' b'b' b'r' b'o'\n",
      " b'w' b'n' b' ' b's' b'u' b'g' b'a' b'r' b'\\n' b' ' b'1' b'/' b'2' b' '\n",
      " b'c' b'.' b' ' b'e' b'v' b'a' b'p' b'o' b'r' b'a' b't' b'e' b'd' b' '\n",
      " b'm' b'i' b'l' b'k' b'\\n' b' ' b'1' b'/' b'2' b' ' b't' b's' b'p' b'.'\n",
      " b' ' b'v' b'a' b'n' b'i' b'l' b'l' b'a' b'\\n' b' ' b'1' b'/' b'2' b' '\n",
      " b'c' b'.' b' '], shape=(101,), dtype=string)\n",
      "b'No-Bake Nut Cookies\\n1 c. firmly packed brown sugar\\n 1/2 c. evaporated milk\\n 1/2 tsp. vanilla\\n 1/2 c. '\n",
      "b'broken nuts (pecans)\\n 2 Tbsp. butter or margarine\\n 3 1/2 c. bite size shredded rice biscuitsIn a heav'\n",
      "b'y 2-quart saucepan, mix brown sugar, nuts, evaporated milk and butter or margarine.\\n Stir over medium'\n",
      "b' heat until mixture bubbles all over top.\\n Boil and stir 5 minutes more. Take off heat.\\n Stir in vani'\n",
      "b'lla and cereal; mix well.\\n Using 2 teaspoons, drop and shape into 30 clusters on wax paper.\\n Let stan'\n"
     ]
    }
   ],
   "source": [
    "seq_length = 100\n",
    "examples_per_epoch = len(text)//(seq_length+1)\n",
    "sequences = ids_dataset.batch(seq_length+1, drop_remainder=True)\n",
    "for seq in sequences.take(1):\n",
    "    print(chars_from_ids(seq))\n",
    "for seq in sequences.take(5):\n",
    "    print(text_from_ids(seq).numpy())"
   ]
  },
  {
   "cell_type": "code",
   "execution_count": 14,
   "metadata": {},
   "outputs": [
    {
     "name": "stdout",
     "output_type": "stream",
     "text": [
      "(['i', ' ', 'h', 'a', 't', 'e', ' ', 'i', 'd', 't', 'e', 'c'], [' ', 'h', 'a', 't', 'e', ' ', 'i', 'd', 't', 'e', 'c', 'h'])\n"
     ]
    }
   ],
   "source": [
    "def split_input_target(sequence):\n",
    "    input_text = sequence[:-1]\n",
    "    target_text = sequence[1:]\n",
    "    return input_text, target_text\n",
    "print(split_input_target(list(\"i hate idtech\"))) \n"
   ]
  },
  {
   "cell_type": "code",
   "execution_count": 15,
   "metadata": {},
   "outputs": [
    {
     "name": "stdout",
     "output_type": "stream",
     "text": [
      "Input : b'No-Bake Nut Cookies\\n1 c. firmly packed brown sugar\\n 1/2 c. evaporated milk\\n 1/2 tsp. vanilla\\n 1/2 c.'\n",
      "Target: b'o-Bake Nut Cookies\\n1 c. firmly packed brown sugar\\n 1/2 c. evaporated milk\\n 1/2 tsp. vanilla\\n 1/2 c. '\n"
     ]
    }
   ],
   "source": [
    "dataset = sequences.map(split_input_target) \n",
    "for input_example, target_example in dataset.take(1):\n",
    "    print(\"Input :\", text_from_ids(input_example).numpy())\n",
    "    print(\"Target:\", text_from_ids(target_example).numpy())"
   ]
  },
  {
   "cell_type": "code",
   "execution_count": 16,
   "metadata": {},
   "outputs": [
    {
     "name": "stdout",
     "output_type": "stream",
     "text": [
      "<PrefetchDataset element_spec=(TensorSpec(shape=(64, 100), dtype=tf.int64, name=None), TensorSpec(shape=(64, 100), dtype=tf.int64, name=None))>\n"
     ]
    }
   ],
   "source": [
    "BATCH_SIZE = 64\n",
    "BUFFER_SIZE = 10000\n",
    "dataset = (dataset .shuffle(BUFFER_SIZE) .batch(BATCH_SIZE, drop_remainder=True) .prefetch(tf.data.experimental.AUTOTUNE))\n",
    "print(dataset)"
   ]
  },
  {
   "cell_type": "code",
   "execution_count": 17,
   "metadata": {},
   "outputs": [],
   "source": [
    "vocab_size = len(vocab)\n",
    "embedding_dim = 256\n",
    "rnn_units = 1024\n",
    "class MyModel(tf.keras.Model):\n",
    "    def __init__(self, vocab_size, embedding_dim, rnn_units):\n",
    "        super().__init__(self)\n",
    "        self.embedding = tf.keras.layers.Embedding(vocab_size, embedding_dim)\n",
    "        self.gru = tf.keras.layers.GRU(rnn_units, return_sequences=True, return_state=True)\n",
    "        self.dense = tf.keras.layers.Dense(vocab_size)\n",
    "\n",
    "    def call(self, inputs, states=None, return_state=False, training=False):\n",
    "        x = inputs\n",
    "        x = self.embedding(x, training=training)\n",
    "        \n",
    "        if states is None:\n",
    "            states = self.gru.get_initial_state(x)\n",
    "\n",
    "        x, states = self.gru(x, initial_state=states, training=training)\n",
    "        x = self.dense(x, training=training)\n",
    "\n",
    "        if return_state:\n",
    "            return x, states\n",
    "        else:\n",
    "            return x\n",
    "\n",
    "model = MyModel(vocab_size=len(ids_from_chars.get_vocabulary()), embedding_dim=embedding_dim, rnn_units=rnn_units)"
   ]
  },
  {
   "cell_type": "code",
   "execution_count": 18,
   "metadata": {},
   "outputs": [
    {
     "name": "stdout",
     "output_type": "stream",
     "text": [
      "(64, 100, 87) # (batch_size, sequence_length, vocab_size)\n"
     ]
    }
   ],
   "source": [
    "for input_example_batch, target_example_batch in dataset.take(1): \n",
    "    example_batch_predictions = model(input_example_batch) \n",
    "    print(example_batch_predictions.shape, \"# (batch_size, sequence_length, vocab_size)\") "
   ]
  },
  {
   "cell_type": "code",
   "execution_count": 19,
   "metadata": {},
   "outputs": [
    {
     "name": "stdout",
     "output_type": "stream",
     "text": [
      "Model: \"my_model\"\n",
      "_________________________________________________________________\n",
      " Layer (type)                Output Shape              Param #   \n",
      "=================================================================\n",
      " embedding (Embedding)       multiple                  22272     \n",
      "                                                                 \n",
      " gru (GRU)                   multiple                  3938304   \n",
      "                                                                 \n",
      " dense (Dense)               multiple                  89175     \n",
      "                                                                 \n",
      "=================================================================\n",
      "Total params: 4,049,751\n",
      "Trainable params: 4,049,751\n",
      "Non-trainable params: 0\n",
      "_________________________________________________________________\n"
     ]
    }
   ],
   "source": [
    "model.summary()"
   ]
  },
  {
   "cell_type": "code",
   "execution_count": 20,
   "metadata": {},
   "outputs": [
    {
     "name": "stdout",
     "output_type": "stream",
     "text": [
      "[12 27 46 36 49 38 26 24 50 19 48  4  5 42  1 55 27  9 59 24 40 72 13 26\n",
      " 15 20 56  3 83 69 19 75 55 50 25 32 77 11 71 53 51 38 66 54  9  5 11 45\n",
      " 36 21 35 71 84 20 33 15 41 55 66 17 43 44 80 46 76 40 13 19 69 84 28 29\n",
      " 15 67  1 10 43 55 14 61 56  4 79 30 39 77 50 27 86 19 63 51 58 26 47 64\n",
      " 36  8 13 23]\n",
      "Input:\n",
      " b'ir in 2 cups of water and remaining ingredients.\\n Bring to a boil.\\n Reduce heat and cover. Simmer 20'\n",
      "Next Char Predictions:\n",
      " b'*9OERG86S1Q!\"K\\tX9\\'`6Im+8-2Y xj1pXS7Ar)lVTGgW\\'\")NE3Dly2B-JXg/LMuOqI+1jy:;-h\\t(LX,bY!t=HrS9~1dT\\\\8PeE&+5'\n"
     ]
    }
   ],
   "source": [
    "sampled_indices = tf.random.categorical(example_batch_predictions[0], num_samples=1)\n",
    "sampled_indices = tf.squeeze(sampled_indices, axis=-1).numpy()\n",
    "\n",
    "print(sampled_indices)\n",
    "\n",
    "print(\"Input:\\n\", text_from_ids(input_example_batch[0]).numpy())\n",
    "print(\"Next Char Predictions:\\n\", text_from_ids(sampled_indices).numpy())"
   ]
  },
  {
   "cell_type": "code",
   "execution_count": 21,
   "metadata": {},
   "outputs": [
    {
     "name": "stdout",
     "output_type": "stream",
     "text": [
      "Prediction shape:  (64, 100, 87)  # (batch_size, sequence_length, vocab_size)\n",
      "Mean loss:  tf.Tensor(4.46551, shape=(), dtype=float32)\n"
     ]
    },
    {
     "data": {
      "text/plain": [
       "86.96536"
      ]
     },
     "execution_count": 21,
     "metadata": {},
     "output_type": "execute_result"
    }
   ],
   "source": [
    "loss = tf.losses.SparseCategoricalCrossentropy(from_logits=True)\n",
    "example_batch_mean_loss = loss(target_example_batch, example_batch_predictions)\n",
    "print(\"Prediction shape: \", example_batch_predictions.shape, \" # (batch_size, sequence_length, vocab_size)\")\n",
    "print(\"Mean loss: \", example_batch_mean_loss)\n",
    "tf.exp(example_batch_mean_loss).numpy()"
   ]
  },
  {
   "cell_type": "code",
   "execution_count": null,
   "metadata": {},
   "outputs": [],
   "source": [
    "model.compile(optimizer='adam', loss=loss)\n",
    "checkpoint_dir = './training_checkpoints'\n",
    "checkpoint_prefix = os.path.join(checkpoint_dir, \"ckpt_{epoch}\")\n",
    "checkpoint_callback = tf.keras.callbacks.ModelCheckpoint( filepath=checkpoint_prefix, save_weights_only=True)\n",
    "EPOCHS = 20\n",
    "history = model.fit(dataset, epochs=EPOCHS, callbacks=[checkpoint_callback])\n",
    "\n",
    "tf.saved_model.save(model, 'rnnModel1')"
   ]
  },
  {
   "cell_type": "code",
   "execution_count": 27,
   "metadata": {},
   "outputs": [],
   "source": [
    "json_model=model.to_json()\n",
    "\n",
    "with open('fashionmnist_model.json', 'w') as json_file:\n",
    "    json_file.write(json_model)\n",
    "\n",
    "model.save_weights('rnnModel.h5')"
   ]
  },
  {
   "cell_type": "code",
   "execution_count": 38,
   "metadata": {},
   "outputs": [],
   "source": [
    "class OneStep(tf.keras.Model):\n",
    "    def __init__(self, model, chars_from_ids, ids_from_chars, temperature=1.0):\n",
    "        super().__init__()\n",
    "        self.temperature = temperature\n",
    "        self.model = model\n",
    "        self.chars_from_ids = chars_from_ids\n",
    "        self.ids_from_chars = ids_from_chars\n",
    "        skip_ids = self.ids_from_chars(['[UNK]'])[:, None]\n",
    "        sparse_mask = tf.SparseTensor(values=[-float('inf')]*len(skip_ids),indices=skip_ids,dense_shape=[len(ids_from_chars.get_vocabulary())])\n",
    "        self.prediction_mask = tf.sparse.to_dense(sparse_mask)\n",
    "    \n",
    "    @tf.function\n",
    "    def generate_one_step(self, inputs, states=None):\n",
    "        input_chars = tf.strings.unicode_split(inputs, 'UTF-8') \n",
    "        input_ids = self.ids_from_chars(input_chars).to_tensor()\n",
    "        predicted_logits, states = self.model(inputs=input_ids, states=states, return_state=True)\n",
    "        predicted_logits = predicted_logits[:, -1, :]\n",
    "        predicted_logits = predicted_logits/self.temperature\n",
    "        predicted_logits = predicted_logits\n",
    "        predicted_ids = tf.random.categorical(predicted_logits, num_samples=1)\n",
    "        predicted_ids = tf.squeeze(predicted_ids, axis=-1)\n",
    "        predicted_chars = self.chars_from_ids(predicted_ids)\n",
    "        return predicted_chars, states\n",
    "        \n",
    "one_step_model = OneStep(model, chars_from_ids, ids_from_chars)\n",
    "tf.saved_model.save(one_step_model, 'one_step')"
   ]
  },
  {
   "cell_type": "code",
   "execution_count": null,
   "metadata": {},
   "outputs": [],
   "source": [
    "states=None\n",
    "next_char = tf.constant(['\\n\\n'])\n",
    "result = [next_char]\n",
    "for n in range(1000):\n",
    "    next_char, states =  one_step_model.generate_one_step(next_char, states=states)\n",
    "    result.append(next_char)\n",
    "    \n",
    "result = tf.strings.join(result)\n",
    "end = time.time()\n",
    "print(result[0].numpy().decode('utf-8'), '\\n\\n' + '_'*80)"
   ]
  },
  {
   "cell_type": "code",
   "execution_count": 41,
   "metadata": {},
   "outputs": [],
   "source": [
    "model1=tf.saved_model.load('rnnModel')"
   ]
  },
  {
   "cell_type": "code",
   "execution_count": 47,
   "metadata": {},
   "outputs": [
    {
     "name": "stdout",
     "output_type": "stream",
     "text": [
      "ROMEO:\n",
      "1 can mushrooms\n",
      " 1 (8 oz.) pkg. cream cheese\n",
      " 1 c. Parmesan cheese\n",
      " bacon and carrotsMix squash and \n"
     ]
    }
   ],
   "source": [
    "states=None\n",
    "next_char=tf.constant(['ROMEO:\\n'])\n",
    "result=[next_char]\n",
    "\n",
    "for n in range(100):\n",
    "    next_char,states=model1.generate_one_step(next_char, states=states)\n",
    "    result.append(next_char)\n",
    "\n",
    "print(tf.strings.join(result)[0].numpy().decode(\"utf-8\"))\n"
   ]
  }
 ],
 "metadata": {
  "kernelspec": {
   "display_name": "Python 3.10.4 64-bit",
   "language": "python",
   "name": "python3"
  },
  "language_info": {
   "codemirror_mode": {
    "name": "ipython",
    "version": 3
   },
   "file_extension": ".py",
   "mimetype": "text/x-python",
   "name": "python",
   "nbconvert_exporter": "python",
   "pygments_lexer": "ipython3",
   "version": "3.10.4"
  },
  "orig_nbformat": 4,
  "vscode": {
   "interpreter": {
    "hash": "aee8b7b246df8f9039afb4144a1f6fd8d2ca17a180786b69acc140d282b71a49"
   }
  }
 },
 "nbformat": 4,
 "nbformat_minor": 2
}
